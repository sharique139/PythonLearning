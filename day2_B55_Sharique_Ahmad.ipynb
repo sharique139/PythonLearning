{
 "cells": [
  {
   "cell_type": "code",
   "execution_count": 6,
   "id": "2c31ecec",
   "metadata": {},
   "outputs": [
    {
     "name": "stdout",
     "output_type": "stream",
     "text": [
      "Addition =  30\n",
      "Multiplication =  200\n",
      "Difference =  10\n",
      "Division =  2.0\n"
     ]
    }
   ],
   "source": [
    "#Variables in python\n",
    "a = 20\n",
    "b = 10\n",
    "c = a+b\n",
    "d = a*b\n",
    "e = a-b\n",
    "f = a/b\n",
    "print(\"Addition = \",c)\n",
    "print(\"Multiplication = \",d)\n",
    "print(\"Difference = \",e)\n",
    "print(\"Division = \",f)"
   ]
  },
  {
   "cell_type": "code",
   "execution_count": 9,
   "id": "c3669965",
   "metadata": {},
   "outputs": [
    {
     "name": "stdout",
     "output_type": "stream",
     "text": [
      "Amitabh living in  Mumbai\n"
     ]
    }
   ],
   "source": [
    "#String Variable\n",
    "star = 'Amitabh'\n",
    "address = 'Mumbai'\n",
    "print(star,\"living in \",address)"
   ]
  },
  {
   "cell_type": "code",
   "execution_count": 10,
   "id": "cc3a1b3a",
   "metadata": {},
   "outputs": [
    {
     "name": "stdout",
     "output_type": "stream",
     "text": [
      "India is Great Country\n"
     ]
    }
   ],
   "source": [
    "#string datatype\n",
    "p = 'India'  #single quote\n",
    "q = \"Great\"  #double quote\n",
    "r = \"\"\"Country\"\"\"  #triple quote\n",
    "print(p,\"is\",q,r)"
   ]
  },
  {
   "cell_type": "code",
   "execution_count": 12,
   "id": "56702f59",
   "metadata": {},
   "outputs": [
    {
     "name": "stdout",
     "output_type": "stream",
     "text": [
      "Name of Student =  Ahmad\n",
      "Roll No. of Student =  101\n",
      "Student opted branch =  IT\n",
      "Address of Student =  Delhi\n",
      "Student selected subject =  Ahmad\n"
     ]
    }
   ],
   "source": [
    "#student data example\n",
    "name = 'Ahmad'\n",
    "roll = 101\n",
    "branch = 'IT'\n",
    "add = 'Delhi'\n",
    "sub = 'Python'\n",
    "print(\"Name of Student = \",name)\n",
    "print(\"Roll No. of Student = \",roll)\n",
    "print(\"Student opted branch = \",branch)\n",
    "print(\"Address of Student = \",add)\n",
    "print(\"Student selected subject = \",name)\n"
   ]
  },
  {
   "cell_type": "code",
   "execution_count": null,
   "id": "d0e8b0f7",
   "metadata": {},
   "outputs": [],
   "source": []
  }
 ],
 "metadata": {
  "kernelspec": {
   "display_name": "Python 3 (ipykernel)",
   "language": "python",
   "name": "python3"
  },
  "language_info": {
   "codemirror_mode": {
    "name": "ipython",
    "version": 3
   },
   "file_extension": ".py",
   "mimetype": "text/x-python",
   "name": "python",
   "nbconvert_exporter": "python",
   "pygments_lexer": "ipython3",
   "version": "3.9.7"
  }
 },
 "nbformat": 4,
 "nbformat_minor": 5
}
